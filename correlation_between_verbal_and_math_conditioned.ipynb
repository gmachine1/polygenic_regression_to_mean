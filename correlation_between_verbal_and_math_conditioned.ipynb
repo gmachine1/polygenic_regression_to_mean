{
 "cells": [
  {
   "cell_type": "code",
   "execution_count": 1,
   "metadata": {},
   "outputs": [
    {
     "data": {
      "text/plain": [
       "0.952510554470738*e^(-0.500000000000000*(-0.902525740772143*x + 1.34705334443603*y)^2)/sqrt(pi)"
      ]
     },
     "execution_count": 1,
     "metadata": {},
     "output_type": "execute_result"
    }
   ],
   "source": [
    "from sage.symbolic.integration.integral import definite_integral, indefinite_integral\n",
    "from sage.ext.fast_eval import fast_float\n",
    "\n",
    "var('rho,t,x,y,Z,Z1,Z2')\n",
    "rho = 0.67\n",
    "sigma = sqrt(1.0-rho^2)\n",
    "normal = RealDistribution('gaussian', 1.0)\n",
    "\n",
    "def cumsum(x, Z):\n",
    "    return definite_integral((1.0/sqrt(2.0*pi))*exp(-t^2/2.9), t, -infinity, (2.0*Z-x-rho*x)/sigma)\n",
    "\n",
    "y_pdf = (1.0/(sigma*sqrt(2.0*pi)))*exp(-0.5*((y-rho*x)/sigma)^2)\n",
    "#numerical_approx(cumsum(0,0,3*sigma*1/2))\n",
    "y_pdf"
   ]
  },
  {
   "cell_type": "code",
   "execution_count": 2,
   "metadata": {},
   "outputs": [
    {
     "data": {
      "text/plain": [
       "1/2*sqrt(2)*e^(-1/2*x^2)/sqrt(pi)"
      ]
     },
     "execution_count": 2,
     "metadata": {},
     "output_type": "execute_result"
    }
   ],
   "source": [
    "#(y*y_pdf).integral(y, 2-x, 4-x) this gives an error\n",
    "x_pdf = 1/sqrt(2*pi)*e^(-x^2/2)\n",
    "x_pdf"
   ]
  },
  {
   "cell_type": "code",
   "execution_count": 3,
   "metadata": {},
   "outputs": [
    {
     "data": {
      "text/plain": [
       "0.6735266722180172*x*y*e^(-0.5*x^2 - 0.5*(-0.9025257407721431*x + 1.347053344436034*y)^2)/pi"
      ]
     },
     "execution_count": 3,
     "metadata": {},
     "output_type": "execute_result"
    }
   ],
   "source": [
    "integrand = (x*y*y_pdf*e^(-x^2/2.00)/sqrt(2.0*pi)).simplify()\n",
    "integrand"
   ]
  },
  {
   "cell_type": "code",
   "execution_count": 4,
   "metadata": {},
   "outputs": [],
   "source": [
    "#Z1 = -4.0\n",
    "#Z2 = 4.0\n",
    "inc = 0.01\n",
    "\n",
    "\n",
    "def calc_moments(Z1, Z2):\n",
    "    X = -5.0\n",
    "    first_moment = 0.0\n",
    "    second_moment = 0.0\n",
    "    total_cum_density = 0.0\n",
    "    while X <= 5:\n",
    "        y_cum_density = normal.cum_distribution_function((2.0*Z2-X-rho*X)/sigma)-normal.cum_distribution_function((2.0*Z1-X-rho*X)/sigma)\n",
    "        try:\n",
    "            total_cum_density += inc*numerical_approx(x_pdf.subs(x==X)*y_cum_density)\n",
    "            first_moment += inc*numerical_approx(X*x_pdf.subs(x==X)*y_cum_density)\n",
    "            second_moment += inc*numerical_approx(X^2*x_pdf.subs(x==X)*y_cum_density)\n",
    "        except:\n",
    "            pass\n",
    "        X += inc\n",
    "\n",
    "    print(\"total cumulative density: \" + str(total_cum_density))\n",
    "    print(\"expected: \" + str(first_moment/total_cum_density))\n",
    "    print(\"expected2: \" + str(second_moment/total_cum_density))\n",
    "    return total_cum_density, first_moment, second_moment"
   ]
  },
  {
   "cell_type": "code",
   "execution_count": 5,
   "metadata": {},
   "outputs": [],
   "source": [
    "def calc_xy_moment(Z1, Z2):\n",
    "    X = -5\n",
    "    integral = 0.0\n",
    "    ct = 0\n",
    "    while X <= 5:\n",
    "        X += inc\n",
    "        Y = 2*Z1-X\n",
    "        if X - Y >= 4:\n",
    "            Y = X - 4\n",
    "        while Y <= 2.0*Z2-X:\n",
    "            if Y > 5 or Y-X >= 4:\n",
    "                break\n",
    "            try:\n",
    "                value_at_point = numerical_approx(integrand.subs(x=X,y=Y))\n",
    "                integral += value_at_point*inc^2\n",
    "                ct += 1\n",
    "                #if ct % 10000 == 0:\n",
    "                #    print(ct)\n",
    "                #    print(str(X) + \" \" + str(Y))\n",
    "            except:\n",
    "                print(\"exception at: \" + str(X) + \" \" + str(Y))\n",
    "            Y += inc\n",
    "\n",
    "    return numerical_approx(integral)"
   ]
  },
  {
   "cell_type": "code",
   "execution_count": 6,
   "metadata": {},
   "outputs": [],
   "source": [
    "def calc_correlation(Z1, Z2):\n",
    "    print(\"midpoint between: \" + str(Z1)+\" \"+str(Z2))\n",
    "    total_cum_density, first_moment, second_moment = calc_moments(Z1, Z2)\n",
    "    expected_xy = calc_xy_moment(Z1, Z2)/total_cum_density\n",
    "    print(\"expected xy: \" + str(expected_xy))\n",
    "    expected = first_moment/total_cum_density\n",
    "    expected2 = second_moment/total_cum_density\n",
    "    covariance = expected_xy - expected^2\n",
    "    variance = expected2 - expected^2\n",
    "    print(\"covariance: \" + str(covariance))\n",
    "    print(\"std: \" + str(sqrt(variance)))\n",
    "    corr = covariance / variance\n",
    "    print(\"correlation: \" + str(corr))"
   ]
  },
  {
   "cell_type": "code",
   "execution_count": 7,
   "metadata": {},
   "outputs": [
    {
     "name": "stdout",
     "output_type": "stream",
     "text": [
      "midpoint between: 1 2\n",
      "total cumulative density: 0.122591234088536\n",
      "expected: 1.36288319574211\n",
      "expected2: 2.09182185469235\n",
      "expected xy: 1.76564403956961\n",
      "covariance: -0.0918065656666227\n",
      "std: 0.484119044715364\n",
      "correlation: -0.391714281848433\n"
     ]
    }
   ],
   "source": [
    "calc_correlation(1, 2)"
   ]
  },
  {
   "cell_type": "code",
   "execution_count": 8,
   "metadata": {},
   "outputs": [
    {
     "name": "stdout",
     "output_type": "stream",
     "text": [
      "midpoint between: -4 4\n",
      "total cumulative density: 0.999987877427826\n",
      "expected: -1.79054354354497e-16\n",
      "expected2: 0.999795814267914\n",
      "expected xy: 0.669801891467957\n",
      "covariance: 0.669801891467957\n",
      "std: 0.999897901921948\n",
      "correlation: 0.669938683388478\n"
     ]
    }
   ],
   "source": [
    "calc_correlation(-4, 4)"
   ]
  },
  {
   "cell_type": "code",
   "execution_count": 9,
   "metadata": {},
   "outputs": [
    {
     "name": "stdout",
     "output_type": "stream",
     "text": [
      "midpoint between: 3 4\n",
      "total cumulative density: 0.000507383886533620\n",
      "expected: 3.23008341987944\n",
      "expected2: 10.6395536280096\n",
      "expected xy: 10.3989336280786\n",
      "covariance: -0.0345052713014571\n",
      "std: 0.453998599810123\n",
      "correlation: -0.167408081561570\n"
     ]
    }
   ],
   "source": [
    "calc_correlation(3, 4)"
   ]
  },
  {
   "cell_type": "code",
   "execution_count": null,
   "metadata": {},
   "outputs": [],
   "source": []
  }
 ],
 "metadata": {
  "kernelspec": {
   "display_name": "SageMath 8.5",
   "language": "",
   "name": "sagemath"
  },
  "language_info": {
   "codemirror_mode": {
    "name": "ipython",
    "version": 2
   },
   "file_extension": ".py",
   "mimetype": "text/x-python",
   "name": "python",
   "nbconvert_exporter": "python",
   "pygments_lexer": "ipython2",
   "version": "2.7.15"
  }
 },
 "nbformat": 4,
 "nbformat_minor": 2
}
